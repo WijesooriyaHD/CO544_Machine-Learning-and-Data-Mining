{
 "cells": [
  {
   "cell_type": "code",
   "execution_count": 2,
   "id": "ecd02947",
   "metadata": {},
   "outputs": [
    {
     "name": "stdout",
     "output_type": "stream",
     "text": [
      "17\n",
      "(2,)\n"
     ]
    }
   ],
   "source": [
    "import numpy as np\n",
    "import matplotlib.pyplot as plt\n",
    "\n",
    "# 1 dot product\n",
    "x = np.array([1, 5])\n",
    "y = np.array([2, 3])\n",
    "a = np.dot(x, y)\n",
    "print(a)\n",
    "print(x.shape)"
   ]
  },
  {
   "cell_type": "code",
   "execution_count": 8,
   "id": "2c1257e9",
   "metadata": {},
   "outputs": [
    {
     "name": "stdout",
     "output_type": "stream",
     "text": [
      "5.0990195135927845 5.0990195135927845\n"
     ]
    }
   ],
   "source": [
    "# 2 , 3 norm of a vector\n",
    "\n",
    "d = 2*x + 2*y\n",
    "b = np.sqrt(x[0]**2+x[1]**2)\n",
    "c = np.linalg.norm(x)\n",
    "print(b, c)\n"
   ]
  },
  {
   "cell_type": "code",
   "execution_count": 9,
   "id": "6d32c535",
   "metadata": {},
   "outputs": [
    {
     "name": "stdout",
     "output_type": "stream",
     "text": [
      "22.380135051959567\n"
     ]
    }
   ],
   "source": [
    "# 4 angle between two non zero vectors\n",
    "theta_radians = np.arccos(np.dot(x, y)/(np.linalg.norm(x)*np.linalg.norm(y)))\n",
    "theta_degrees = np.degrees(theta_radians)\n",
    "print(theta_degrees)\n"
   ]
  },
  {
   "cell_type": "code",
   "execution_count": 3,
   "id": "7bfc38d5",
   "metadata": {},
   "outputs": [
    {
     "name": "stdout",
     "output_type": "stream",
     "text": [
      "[7. 9.]\n",
      "(2, 3)\n",
      "(3,)\n"
     ]
    }
   ],
   "source": [
    "# 5  Matrix vector multiplication: v = Au\n",
    "\n",
    "A = np.array([[1, -1, 2], [0, -3, 4]], dtype=float)\n",
    "u = np.array([2, 1, 3])\n",
    "v = np.dot(A, u)\n",
    "print(v)\n",
    "print(A.shape)\n",
    "print(u.shape)"
   ]
  },
  {
   "cell_type": "code",
   "execution_count": 11,
   "id": "d3cf1edb",
   "metadata": {},
   "outputs": [
    {
     "name": "stdout",
     "output_type": "stream",
     "text": [
      "[1.  0.2]\n"
     ]
    }
   ],
   "source": [
    "\n",
    "# 6 solving linear eq  ,  2x1 + 5x2 = 3 and 3x1 − 5x2 = 2\n",
    "\n",
    "\n",
    "d = np.array([[2, 5], [3, -5]])\n",
    "e = np.array([3, 2])\n",
    "results = np.linalg.solve(d, e)\n",
    "print(results)"
   ]
  },
  {
   "cell_type": "code",
   "execution_count": 16,
   "id": "814e4770",
   "metadata": {},
   "outputs": [
    {
     "name": "stdout",
     "output_type": "stream",
     "text": [
      "[[ 0.2   0.2 ]\n",
      " [ 0.12 -0.08]]\n"
     ]
    }
   ],
   "source": [
    "\n",
    "# 7  inverse of a matrix 7 I = A−1\n",
    "\n",
    "I = np.linalg.inv(d)\n",
    "print(I)"
   ]
  },
  {
   "cell_type": "code",
   "execution_count": 18,
   "id": "9c4c1736",
   "metadata": {},
   "outputs": [
    {
     "name": "stdout",
     "output_type": "stream",
     "text": [
      "15\n"
     ]
    }
   ],
   "source": [
    "# 8 trace of a matrix\n",
    "\n",
    "B = np.array([[1, 2, 3],[4, 5, 6],[7, 8, 9]])\n",
    "trace = np.trace(B)\n",
    "\n",
    "print(trace)"
   ]
  },
  {
   "cell_type": "code",
   "execution_count": 19,
   "id": "fe7cea9c",
   "metadata": {},
   "outputs": [
    {
     "name": "stdout",
     "output_type": "stream",
     "text": [
      "-9.51619735392994e-16\n"
     ]
    }
   ],
   "source": [
    "# 9 Determinant of a matrix: det(B) or |B|\n",
    "B_det = np.linalg.det(B)\n",
    "print(B_det)\n"
   ]
  },
  {
   "cell_type": "code",
   "execution_count": 20,
   "id": "ee22bbf9",
   "metadata": {},
   "outputs": [
    {
     "name": "stdout",
     "output_type": "stream",
     "text": [
      "[ 1.61168440e+01 -1.11684397e+00 -3.38433605e-16]\n",
      "[[-0.23197069 -0.78583024  0.40824829]\n",
      " [-0.52532209 -0.08675134 -0.81649658]\n",
      " [-0.8186735   0.61232756  0.40824829]]\n",
      "-0.2734343708098653\n",
      "[[ 0.83800623 -0.14330218 -0.12461059]\n",
      " [-0.14330218  0.95015576  0.04361371]\n",
      " [-0.12461059  0.04361371  1.21183801]]\n"
     ]
    }
   ],
   "source": [
    "# 10 Eigenvalues and Eigenvectors: Au = λu\n",
    "a, M = np.linalg.eig(B)\n",
    "print(a)\n",
    "print(M)\n",
    "print(np.dot(M[:,0], M[:,1]))\n",
    "print(M @ M.T)\n"
   ]
  },
  {
   "cell_type": "code",
   "execution_count": 24,
   "id": "eba409f3",
   "metadata": {},
   "outputs": [
    {
     "data": {
      "image/png": "[encoded data removed]",
      "text/plain": [
       "<Figure size 720x360 with 1 Axes>"
      ]
     },
     "metadata": {
      "needs_background": "light"
     },
     "output_type": "display_data"
    }
   ],
   "source": [
    "# random numbers and univariant distributions\n",
    "\n",
    "x = np.random.rand(1000, 1)\n",
    "plt.figure(figsize=(10, 5))\n",
    "n, bins, patches = plt.hist(x, bins=20, color='b', alpha=0.8, rwidth=0.8)"
   ]
  },
  {
   "cell_type": "code",
   "execution_count": 27,
   "id": "4d04d45d",
   "metadata": {},
   "outputs": [
    {
     "name": "stdout",
     "output_type": "stream",
     "text": [
      "Variation within bin counts:  0.00043999999999999996\n",
      "Variation within bin counts:  0.0002275\n",
      "Variation within bin counts:  0.00020250000000000004\n",
      "Variation within bin counts:  0.00023249999999999999\n",
      "Variation within bin counts:  0.00016000000000000004\n",
      "Variation within bin counts:  0.0002275000000000001\n",
      "Variation within bin counts:  0.0003225\n",
      "Variation within bin counts:  0.00016\n",
      "Variation within bin counts:  0.000145\n",
      "Variation within bin counts:  0.0002525\n"
     ]
    },
    {
     "data": {
      "text/plain": [
       "<Figure size 432x288 with 0 Axes>"
      ]
     },
     "metadata": {},
     "output_type": "display_data"
    }
   ],
   "source": [
    "MaxTrials = 10\n",
    "NumSamples = 200\n",
    "NumBins = 20\n",
    "for trial in range(MaxTrials):\n",
    "    x = np.random.rand(NumSamples, 1)\n",
    "    counts, bins, patches = plt.hist(x, NumBins)\n",
    "    plt.clf()\n",
    "    print(\"Variation within bin counts: \", np.var(counts/NumSamples))\n"
   ]
  },
  {
   "cell_type": "code",
   "execution_count": 14,
   "id": "e656c473",
   "metadata": {},
   "outputs": [
    {
     "name": "stderr",
     "output_type": "stream",
     "text": [
      "C:\\Users\\hp\\AppData\\Local\\Temp/ipykernel_20988/1395196813.py:6: MatplotlibDeprecationWarning: Case-insensitive properties were deprecated in 3.3 and support will be removed two minor releases later\n",
      "  plt.xlabel('Bin', FontSize=16)\n",
      "C:\\Users\\hp\\AppData\\Local\\Temp/ipykernel_20988/1395196813.py:7: MatplotlibDeprecationWarning: Case-insensitive properties were deprecated in 3.3 and support will be removed two minor releases later\n",
      "  plt.ylabel('Counts', FontSize=16)\n",
      "C:\\Users\\hp\\AppData\\Local\\Temp/ipykernel_20988/1395196813.py:9: MatplotlibDeprecationWarning: Case-insensitive properties were deprecated in 3.3 and support will be removed two minor releases later\n",
      "  plt.title('Histogram', FontSize=16)\n"
     ]
    },
    {
     "data": {
      "text/plain": [
       "Text(0.5, 1.0, 'Histogram')"
      ]
     },
     "execution_count": 14,
     "metadata": {},
     "output_type": "execute_result"
    },
    {
     "data": {
      "image/png": "[encoded data removed]",
      "text/plain": [
       "<Figure size 432x288 with 1 Axes>"
      ]
     },
     "metadata": {
      "needs_background": "light"
     },
     "output_type": "display_data"
    }
   ],
   "source": [
    "N = 1000\n",
    "x1 = np.zeros(N)\n",
    "for n in range(N):\n",
    "    x1[n] = sum(np.random.rand(12, 1)) - np.sum(np.random.rand(12, 1));\n",
    "plt.hist(x1, 40, color='b', alpha=0.8, rwidth=0.8)\n",
    "plt.xlabel('Bin', FontSize=16)\n",
    "plt.ylabel('Counts', FontSize=16)\n",
    "plt.grid(True)\n",
    "plt.title('Histogram', FontSize=16)\n"
   ]
  },
  {
   "cell_type": "code",
   "execution_count": 33,
   "id": "2b91e1a7",
   "metadata": {},
   "outputs": [
    {
     "name": "stderr",
     "output_type": "stream",
     "text": [
      "C:\\Users\\hp\\AppData\\Local\\Temp/ipykernel_9676/3665651517.py:4: DeprecationWarning: `np.int` is a deprecated alias for the builtin `int`. To silence this warning, use `int` by itself. Doing this will not modify any behavior and is safe. When replacing `np.int`, you may wish to use e.g. `np.int64` or `np.int32` to specify the precision. If you wish to review your current use, check the release note link for additional information.\n",
      "Deprecated in NumPy 1.20; for more details and guidance: https://numpy.org/devdocs/release/1.20.0-notes.html#deprecations\n",
      "  numSamples = np.int(sampleSizeRange[sSize])\n"
     ]
    },
    {
     "data": {
      "text/plain": [
       "[<matplotlib.lines.Line2D at 0x2069e60a2e0>]"
      ]
     },
     "execution_count": 33,
     "metadata": {},
     "output_type": "execute_result"
    },
    {
     "data": {
      "image/png": "[encoded data removed]",
      "text/plain": [
       "<Figure size 432x288 with 1 Axes>"
      ]
     },
     "metadata": {
      "needs_background": "light"
     },
     "output_type": "display_data"
    }
   ],
   "source": [
    "sampleSizeRange = np.linspace(100, 200, 40)\n",
    "plotVar = np.zeros(len(sampleSizeRange))\n",
    "for sSize in range(len(sampleSizeRange)):\n",
    "    numSamples = np.int(sampleSizeRange[sSize])\n",
    "    MaxTrial=2000\n",
    "    vStrial=np.zeros(MaxTrial)\n",
    "\n",
    "for trial in range(MaxTrial):\n",
    "    xx = np.random.randn(numSamples,1)\n",
    "    vStrial[trial] = np.var(xx)\n",
    "plotVar[sSize] = np.var(vStrial)\n",
    "plt.plot(sampleSizeRange, plotVar)"
   ]
  },
  {
   "cell_type": "code",
   "execution_count": 35,
   "id": "2a713eff",
   "metadata": {},
   "outputs": [
    {
     "data": {
      "image/png": "[encoded data removed]",
      "text/plain": [
       "<Figure size 432x432 with 1 Axes>"
      ]
     },
     "metadata": {
      "needs_background": "light"
     },
     "output_type": "display_data"
    }
   ],
   "source": [
    "def gauss2D(x, m, C):\n",
    "    Ci = np.linalg.inv(C)\n",
    "    dC = np.linalg.det(C1)\n",
    "    num = np.exp(-0.5 * np.dot((x-m).T, np.dot(Ci, (x-m))))\n",
    "    den = 2 * np.pi * dC\n",
    "    return num/den\n",
    "def twoDGaussianPlot (nx, ny, m, C):\n",
    "    x = np.linspace(-5, 5, nx)\n",
    "    y = np.linspace(-5, 5, ny)\n",
    "    X, Y = np.meshgrid(x, y, indexing='ij')\n",
    "    Z = np.zeros([nx, ny])\n",
    "    for i in range(nx):\n",
    "        for j in range(ny):\n",
    "            xvec = np.array([X[i,j], Y[i,j]])\n",
    "            Z[i,j] = gauss2D(xvec, m, C)\n",
    "    return X, Y, Z\n",
    "\n",
    "\n",
    "nx, ny = 50, 40\n",
    "plt.figure(figsize=(6,6))\n",
    "m1 = np.array([0, 2])\n",
    "C1 = np.array([[2, 1], [1,2]], np.float32)\n",
    "Xp, Yp, Zp = twoDGaussianPlot(nx, ny, m1, C1)\n",
    "plt.contour(Xp, Yp, Zp, 3)\n",
    "plt.grid(True)\n",
    "\n"
   ]
  },
  {
   "cell_type": "code",
   "execution_count": 36,
   "id": "6b4b4209",
   "metadata": {},
   "outputs": [
    {
     "name": "stdout",
     "output_type": "stream",
     "text": [
      "[[2, 1], [1, 2]]\n",
      "[[1.41421356 0.        ]\n",
      " [0.70710678 1.22474487]]\n",
      "[[2. 1.]\n",
      " [1. 2.]]\n"
     ]
    }
   ],
   "source": [
    "C = [[2, 1], [1, 2]]\n",
    "print(C)\n",
    "A = np.linalg.cholesky(C)\n",
    "print(A)\n",
    "print(A @ A.T)"
   ]
  },
  {
   "cell_type": "code",
   "execution_count": 37,
   "id": "d22e143e",
   "metadata": {},
   "outputs": [
    {
     "name": "stdout",
     "output_type": "stream",
     "text": [
      "(10000, 2)\n",
      "(10000, 2)\n"
     ]
    }
   ],
   "source": [
    "X = np.random.randn(10000, 2)\n",
    "Y = X @ A\n",
    "print(X.shape)\n",
    "print(Y.shape)"
   ]
  },
  {
   "cell_type": "code",
   "execution_count": 39,
   "id": "8c1b8cb7",
   "metadata": {},
   "outputs": [
    {
     "data": {
      "text/plain": [
       "Text(0.5, 1.0, 'Scatter of Isotropic and Correlated Gaussian Densities')"
      ]
     },
     "execution_count": 39,
     "metadata": {},
     "output_type": "execute_result"
    },
    {
     "data": {
      "image/png": "[encoded data removed]",
      "text/plain": [
       "<Figure size 432x288 with 1 Axes>"
      ]
     },
     "metadata": {
      "needs_background": "light"
     },
     "output_type": "display_data"
    }
   ],
   "source": [
    "plt.scatter(Y[:, 0], Y[:, 1], s=3, c='m')\n",
    "plt.scatter(X[:, 0], X[:, 1], s=3, c='c')\n",
    "plt.grid(True)\n",
    "plt.title(\"Scatter of Isotropic and Correlated Gaussian Densities\")"
   ]
  },
  {
   "cell_type": "code",
   "execution_count": 40,
   "id": "cd3272d3",
   "metadata": {},
   "outputs": [
    {
     "name": "stdout",
     "output_type": "stream",
     "text": [
      "The vector:  [0.8660254037844386, 0.5000000000000001]\n",
      "Sum of squares:  1.0\n",
      "Degrees:  59.99999999999999\n"
     ]
    }
   ],
   "source": [
    "theta = np.pi / 3\n",
    "u = [np.sin(theta), np.cos(theta)]\n",
    "print(\"The vector: \", u)\n",
    "print(\"Sum of squares: \", u[0]**2 + u[1]**2)\n",
    "print(\"Degrees: \", theta*180 / np.pi)\n"
   ]
  },
  {
   "cell_type": "code",
   "execution_count": 42,
   "id": "4f910f11",
   "metadata": {},
   "outputs": [
    {
     "name": "stdout",
     "output_type": "stream",
     "text": [
      "(10000,)\n",
      "Projected Variance:  3.0162758815927098\n"
     ]
    }
   ],
   "source": [
    "yp = Y @ u\n",
    "print(yp.shape)\n",
    "print(\"Projected Variance: \", np.var(yp))\n",
    "\n"
   ]
  },
  {
   "cell_type": "code",
   "execution_count": 43,
   "id": "3c0bc270",
   "metadata": {},
   "outputs": [
    {
     "data": {
      "text/plain": [
       "Text(0, 0.5, 'Variance of Projections')"
      ]
     },
     "execution_count": 43,
     "metadata": {},
     "output_type": "execute_result"
    },
    {
     "data": {
      "image/png": "[encoded data removed]",
      "text/plain": [
       "<Figure size 432x288 with 1 Axes>"
      ]
     },
     "metadata": {
      "needs_background": "light"
     },
     "output_type": "display_data"
    }
   ],
   "source": [
    "#Plot how this projected variance changes as a function of θ:\n",
    "nPoints = 50;\n",
    "pVars = np.zeros(nPoints)\n",
    "thRange = np.linspace(0, 2*np.pi, nPoints)\n",
    "for n in range(nPoints):\n",
    "    theta = thRange[n]\n",
    "    u = [np.sin(theta), np.cos(theta)]\n",
    "    pVars[n] = np.var( Y @ u )\n",
    "plt.plot(pVars)\n",
    "plt.grid(True)\n",
    "plt.xlabel(\"Direction\", fontsize=14)\n",
    "plt.ylabel(\"Variance of Projections\", fontsize=14)"
   ]
  },
  {
   "cell_type": "code",
   "execution_count": 5,
   "id": "5b88ba83",
   "metadata": {},
   "outputs": [
    {
     "name": "stdout",
     "output_type": "stream",
     "text": [
      "Variation within bin counts:  0.0017433000000000001\n",
      "Variation within bin counts:  0.0020432000000000002\n",
      "Variation within bin counts:  0.0023493\n",
      "Variation within bin counts:  0.0018702\n",
      "Variation within bin counts:  0.0027531\n",
      "Variation within bin counts:  0.0025153\n",
      "Variation within bin counts:  0.0027143999999999996\n",
      "Variation within bin counts:  0.0022550000000000005\n",
      "Variation within bin counts:  0.0034055\n",
      "Variation within bin counts:  0.0020594000000000003\n"
     ]
    },
    {
     "data": {
      "text/plain": [
       "<Figure size 432x288 with 0 Axes>"
      ]
     },
     "metadata": {},
     "output_type": "display_data"
    }
   ],
   "source": [
    "# 1000 random numbers drawn from a gaussian distribution\n",
    "\n",
    "import numpy as np\n",
    "import matplotlib.pyplot as plt\n",
    "\n",
    "MaxTrials = 10\n",
    "NumSamples = 1000\n",
    "NumBins = 20\n",
    "\n",
    "mu, sigma = 0, 1\n",
    "for trial in range(MaxTrials):\n",
    "    x = np.random.normal(mu,sigma,NumSamples)\n",
    "    counts, bins, patches = plt.hist(x, NumBins)\n",
    "    plt.clf()\n",
    "    print(\"Variation within bin counts: \", np.var(counts/NumSamples))"
   ]
  },
  {
   "cell_type": "code",
   "execution_count": null,
   "id": "7b1d2185",
   "metadata": {},
   "outputs": [],
   "source": []
  }
 ],
 "metadata": {
  "kernelspec": {
   "display_name": "Python 3 (ipykernel)",
   "language": "python",
   "name": "python3"
  },
  "language_info": {
   "codemirror_mode": {
    "name": "ipython",
    "version": 3
   },
   "file_extension": ".py",
   "mimetype": "text/x-python",
   "name": "python",
   "nbconvert_exporter": "python",
   "pygments_lexer": "ipython3",
   "version": "3.9.7"
  }
 },
 "nbformat": 4,
 "nbformat_minor": 5
}
